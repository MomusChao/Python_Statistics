{
 "cells": [
  {
   "cell_type": "code",
   "execution_count": 2,
   "metadata": {
    "collapsed": false
   },
   "outputs": [
    {
     "data": {
      "image/png": "[encoded data removed]",
      "text/plain": [
       "<Figure size 432x288 with 1 Axes>"
      ]
     },
     "metadata": {},
     "output_type": "display_data"
    }
   ],
   "source": [
    "import numpy as np\n",
    "import matplotlib.pyplot as plt\n",
    "\n",
    "values = [0.3,0.7,1.2,1.4,0.8,0.4,1.3,0.8,1.1]\n",
    "\n",
    "plt.hist(values,bins=5, edgecolor='blue')\n",
    "#plt.xticks(y_pos, bars)\n",
    "\n",
    "plt.title(r'Histogram')\n",
    "plt.xlabel('name')\n",
    "plt.ylabel('count')\n",
    "plt.show()"
   ]
  },
  {
   "cell_type": "code",
   "execution_count": null,
   "metadata": {
    "collapsed": true
   },
   "outputs": [],
   "source": [
    "https://hk.saowen.com/a/4f1fe5113e7ced30f200de609c8614cba3408c799e8864048dcd11723aa91959"
   ]
  }
 ],
 "metadata": {
  "anaconda-cloud": {},
  "kernelspec": {
   "display_name": "Python [default]",
   "language": "python",
   "name": "python3"
  }
 },
 "nbformat": 4,
 "nbformat_minor": 2
}
